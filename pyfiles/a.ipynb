{
 "cells": [
  {
   "cell_type": "code",
   "execution_count": 2,
   "metadata": {},
   "outputs": [],
   "source": [
    "a=['Food','Ration','House','Health','Baby','Travel','Unexpected']\n",
    "a.sort()"
   ]
  },
  {
   "cell_type": "code",
   "execution_count": 4,
   "metadata": {},
   "outputs": [
    {
     "name": "stdout",
     "output_type": "stream",
     "text": [
      "<option value=\"Baby\">Baby</option>\n",
      "<option value=\"Food\">Food</option>\n",
      "<option value=\"Health\">Health</option>\n",
      "<option value=\"House\">House</option>\n",
      "<option value=\"Ration\">Ration</option>\n",
      "<option value=\"Travel\">Travel</option>\n",
      "<option value=\"Unexpected\">Unexpected</option>\n",
      "\n"
     ]
    }
   ],
   "source": [
    "options=\"\"\n",
    "op=['Baby', 'Food', 'Health', 'House', 'Ration', 'Travel', 'Unexpected']\n",
    "for i in op:\n",
    "    val='<option value=\"'+i+'\">'+i+'</option>\\n'\n",
    "    options+=val\n",
    "print(options)"
   ]
  }
 ],
 "metadata": {
  "kernelspec": {
   "display_name": "Python 3",
   "language": "python",
   "name": "python3"
  },
  "language_info": {
   "codemirror_mode": {
    "name": "ipython",
    "version": 3
   },
   "file_extension": ".py",
   "mimetype": "text/x-python",
   "name": "python",
   "nbconvert_exporter": "python",
   "pygments_lexer": "ipython3",
   "version": "3.11.3"
  }
 },
 "nbformat": 4,
 "nbformat_minor": 2
}
